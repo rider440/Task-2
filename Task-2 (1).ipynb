{
 "cells": [
  {
   "cell_type": "code",
   "execution_count": 1,
   "id": "656d9d46-310f-4426-aa45-42dfcc7fdf78",
   "metadata": {},
   "outputs": [
    {
     "name": "stdout",
     "output_type": "stream",
     "text": [
      "   SL No.         Std Name  Roll No.  Maths  Physics  Chemistry  \\\n",
      "0       1      Ankur Yadav      26.0     67       66         74   \n",
      "1       2       Ajeet Ojha      10.0     78       47         67   \n",
      "2       3  Priyanshu Yadav      81.0     72       61         74   \n",
      "3       4    Aditya Pathak       NaN     55       69         45   \n",
      "4       5     Nikhil Yadav      64.0     78       51         56   \n",
      "\n",
      "   Data Structure  OOPs  Obtained Marks  Total Marks Grade  \n",
      "0              73    79             359          600     A  \n",
      "1              45    78             315          600     A  \n",
      "2              53    34             294          600     B  \n",
      "3              75    54             298          600     B  \n",
      "4              55    35             275          600     B  \n"
     ]
    }
   ],
   "source": [
    "# Read a CSV File and Manipulating DataFrames using Pandas\n",
    "import pandas as pnd\n",
    "data=pnd.read_csv('C:\\\\Users\\\\Ajeet\\\\Downloads\\\\AnkurCSFile.csv')\n",
    "print(data.head())"
   ]
  },
  {
   "cell_type": "code",
   "execution_count": 2,
   "id": "50bd9ae3-a4a1-4ee3-b866-be86a44413cb",
   "metadata": {},
   "outputs": [
    {
     "name": "stdout",
     "output_type": "stream",
     "text": [
      "SL No.            0\n",
      "Std Name          0\n",
      "Roll No.          1\n",
      "Maths             0\n",
      "Physics           0\n",
      "Chemistry         0\n",
      "Data Structure    0\n",
      "OOPs              0\n",
      "Obtained Marks    0\n",
      "Total Marks       0\n",
      "Grade             0\n",
      "dtype: int64\n",
      "   SL No.         Std Name  Roll No.  Maths  Physics  Chemistry  \\\n",
      "0       1      Ankur Yadav      26.0     67       66         74   \n",
      "1       2       Ajeet Ojha      10.0     78       47         67   \n",
      "2       3  Priyanshu Yadav      81.0     72       61         74   \n",
      "3       4    Aditya Pathak       0.0     55       69         45   \n",
      "4       5     Nikhil Yadav      64.0     78       51         56   \n",
      "\n",
      "   Data Structure  OOPs  Obtained Marks  Total Marks Grade  \n",
      "0              73    79             359          600     A  \n",
      "1              45    78             315          600     A  \n",
      "2              53    34             294          600     B  \n",
      "3              75    54             298          600     B  \n",
      "4              55    35             275          600     B  \n"
     ]
    }
   ],
   "source": [
    "# Simple Data Cleaning tasks\n",
    "# handling misssing values\n",
    "print(data.isnull().sum())      #cheak for missing values\n",
    "data_filled=data.fillna(0)      #Fill missing value with 0\n",
    "data_dropped=data.dropna()      #drop row with missing values\n",
    "print(data_filled.head())       #display the cleaned data frame"
   ]
  },
  {
   "cell_type": "code",
   "execution_count": 3,
   "id": "d686f742-c730-431b-bc7f-92564b9473ef",
   "metadata": {},
   "outputs": [
    {
     "name": "stdout",
     "output_type": "stream",
     "text": [
      "   SL No.         Std Name  Roll No.  Maths  Physics  Chemistry  \\\n",
      "0       1      Ankur Yadav      26.0     67       66         74   \n",
      "1       2       Ajeet Ojha      10.0     78       47         67   \n",
      "2       3  Priyanshu Yadav      81.0     72       61         74   \n",
      "3       4    Aditya Pathak       NaN     55       69         45   \n",
      "4       5     Nikhil Yadav      64.0     78       51         56   \n",
      "\n",
      "   Data Structure  OOPs  Obtained Marks  Total Marks Grade  \n",
      "0              73    79             359          600     A  \n",
      "1              45    78             315          600     A  \n",
      "2              53    34             294          600     B  \n",
      "3              75    54             298          600     B  \n",
      "4              55    35             275          600     B  \n"
     ]
    }
   ],
   "source": [
    "# Simple Data Cleaning tasks\n",
    "# removing duplicate values\n",
    "data_remove=data.drop_duplicates()\n",
    "print(data_remove.head())"
   ]
  },
  {
   "cell_type": "code",
   "execution_count": 4,
   "id": "d7241110-dae3-4dac-8b79-fcf5b5273377",
   "metadata": {},
   "outputs": [
    {
     "name": "stdout",
     "output_type": "stream",
     "text": [
      "   SL No.        Std Name  Roll No.  Maths  Physics  Chemistry  \\\n",
      "0       1     Ankur Yadav      26.0     67       66         74   \n",
      "1       2      Ajeet Ojha      10.0     78       47         67   \n",
      "6       7     Rohit Patel      90.0     85       76         37   \n",
      "8       9     Shiva Singh     103.0     69       87         79   \n",
      "9      10  Abhishek Yadav       3.0     52       62         54   \n",
      "\n",
      "   Data Structure  OOPs  Obtained Marks  Total Marks Grade  \n",
      "0              73    79             359          600     A  \n",
      "1              45    78             315          600     A  \n",
      "6              47    86             331          600     A  \n",
      "8              35    87             357          600     A  \n",
      "9              76    74             318          600     A  \n",
      "\n",
      "\n",
      "   SL No.          Std Name  Roll No.  Maths  Physics  Chemistry  \\\n",
      "4       5      Nikhil Yadav      64.0     78       51         56   \n",
      "7       8       Rahul Patel      81.0     64       56         68   \n",
      "2       3   Priyanshu Yadav      81.0     72       61         74   \n",
      "5       6  Satyam Kumar Dev      93.0     65       45         86   \n",
      "3       4     Aditya Pathak       NaN     55       69         45   \n",
      "\n",
      "   Data Structure  OOPs  Obtained Marks  Total Marks Grade  \n",
      "4              55    35             275          600     B  \n",
      "7              65    37             290          600     B  \n",
      "2              53    34             294          600     B  \n",
      "5              45    54             295          600     B  \n",
      "3              75    54             298          600     B  \n",
      "\n",
      "\n",
      "Grade\n",
      "A    337.714286\n",
      "B    290.400000\n",
      "Name: Obtained Marks, dtype: float64\n"
     ]
    }
   ],
   "source": [
    "# Basic Data Manipulation Operation\n",
    "# Filtering data\n",
    "filter_data=data[data['Obtained Marks']>300]\n",
    "print(filter_data.head())\n",
    "print(\"\\n\")\n",
    "\n",
    "# sorting data\n",
    "sort_data=data.sort_values(by='Obtained Marks', ascending=True)\n",
    "print(sort_data.head())\n",
    "print(\"\\n\")\n",
    "\n",
    "# grouping data\n",
    "group_data=data.groupby('Grade')['Obtained Marks'].mean()\n",
    "print(group_data)"
   ]
  },
  {
   "cell_type": "code",
   "execution_count": null,
   "id": "97014c1f-9d15-477f-ae0c-7c66859928c6",
   "metadata": {},
   "outputs": [],
   "source": []
  }
 ],
 "metadata": {
  "kernelspec": {
   "display_name": "Python 3 (ipykernel)",
   "language": "python",
   "name": "python3"
  },
  "language_info": {
   "codemirror_mode": {
    "name": "ipython",
    "version": 3
   },
   "file_extension": ".py",
   "mimetype": "text/x-python",
   "name": "python",
   "nbconvert_exporter": "python",
   "pygments_lexer": "ipython3",
   "version": "3.12.6"
  }
 },
 "nbformat": 4,
 "nbformat_minor": 5
}
